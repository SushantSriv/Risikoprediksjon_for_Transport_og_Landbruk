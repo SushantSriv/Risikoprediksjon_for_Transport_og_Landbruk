{
 "cells": [
  {
   "cell_type": "code",
   "execution_count": 4,
   "id": "0124e24e-25f9-4856-9080-8c8e5f2c6904",
   "metadata": {},
   "outputs": [],
   "source": [
    "import pandas as pd\n",
    "from sklearn.model_selection import train_test_split\n",
    "from sklearn.pipeline import Pipeline\n",
    "from sklearn.compose import ColumnTransformer\n",
    "from sklearn.preprocessing import OneHotEncoder\n",
    "from sklearn.ensemble import RandomForestClassifier\n",
    "import joblib\n",
    "\n",
    "def kategoriser_tidspunkt(tid: str) -> str:\n",
    "    hour = int(tid.split(\":\")[0])\n",
    "    if 7 <= hour < 9:\n",
    "        return \"morgenrush 07:00-08:59\"\n",
    "    elif 9 <= hour < 15:\n",
    "        return \"formiddag 09:00-14:59\"\n",
    "    elif 15 <= hour < 18:\n",
    "        return \"ettermiddagrush 15:00-17:59\"\n",
    "    elif 18 <= hour < 24:\n",
    "        return \"kveld 18:00-23:59\"\n",
    "    else:\n",
    "        return \"natt 00:00-06:59\"\n",
    "\n",
    "def kategoriser_temperatur(temp: float) -> str:\n",
    "    if temp < -5:\n",
    "        return \"kaldere enn - 5 grader\"\n",
    "    elif -5 <= temp <= 5:\n",
    "        return \"-5 t.o.m. 5 grader\"\n",
    "    else:\n",
    "        return \"varmere enn 5 grader\"\n",
    "\n",
    "def rens_kommune(tekst: str) -> str:\n",
    "    # Fjerner kommune-ID og gjør til lowercase\n",
    "    return tekst.split(\" - \")[-1].strip().lower()\n",
    "    \n",
    "# Last inn og tilpass data\n",
    "df = pd.read_csv(\"../data/processed/Ulykke_med_time.csv\", encoding=\"ISO-8859-1\", sep=\";\")\n",
    "df.columns = df.columns.str.strip()\n",
    "df[\"Kommune\"] = df[\"Kommune\"].apply(rens_kommune)\n",
    "\n",
    "# Smelt kolonner til én rad per tidspunkt\n",
    "melted = df.melt(id_vars=[\"Kommune\", \"Måned\", \"År\"], var_name=\"Tidspunkt\", value_name=\"Antall\")\n",
    "melted = melted.dropna(subset=[\"Antall\", \"Kommune\", \"Måned\", \"År\", \"Tidspunkt\"])\n",
    "melted[\"Tidspunkt\"] = melted[\"Tidspunkt\"].str.lower()\n",
    "\n",
    "melted[\"Risiko\"] = pd.cut(melted[\"Antall\"], bins=[-1, 0, 2, float(\"inf\")], labels=[\"lav\", \"middels\", \"høy\"])\n",
    "\n",
    "# Modell\n",
    "X = melted[[\"Kommune\", \"Måned\", \"År\", \"Tidspunkt\"]]\n",
    "y = melted[\"Risiko\"]\n",
    "\n",
    "pipeline_tid = Pipeline([\n",
    "    (\"prep\", ColumnTransformer([\n",
    "        (\"cat\", OneHotEncoder(handle_unknown=\"ignore\"), [\"Kommune\", \"Måned\", \"Tidspunkt\"]),\n",
    "        (\"num\", \"passthrough\", [\"År\"])\n",
    "    ])),\n",
    "    (\"clf\", RandomForestClassifier(n_estimators=50, random_state=42))\n",
    "])\n",
    "\n",
    "X_train, X_test, y_train, y_test = train_test_split(X, y, test_size=0.2, random_state=42)\n",
    "pipeline_tid.fit(X_train, y_train)\n",
    "joblib.dump(pipeline_tid, \"modell_tidspunkt_pipeline.pkl\")\n",
    "\n",
    "def prediker_tid(kommune, måned, år, tid_klokkeslett):\n",
    "    kat_tid = kategoriser_tidspunkt(tid_klokkeslett)\n",
    "    kommune_renset = rens_kommune(kommune)\n",
    "    input_df = pd.DataFrame([[kommune_renset, måned, år, kat_tid]],\n",
    "                            columns=[\"Kommune\", \"Måned\", \"År\", \"Tidspunkt\"])\n",
    "    return pipeline_tid.predict(input_df)[0]\n",
    "\n",
    "\n"
   ]
  },
  {
   "cell_type": "code",
   "execution_count": 11,
   "id": "67f57383-066e-43f4-86fa-a99942665775",
   "metadata": {},
   "outputs": [],
   "source": [
    "tidspunkt_kategori = kategoriser_tidspunkt(\"08:30\")\n",
    "resultat_tid = prediker_tidspunktmodell(\"Oslo\", \"Januar\", 2023, tidspunkt_kategori)"
   ]
  },
  {
   "cell_type": "code",
   "execution_count": 12,
   "id": "4d38bdfb-a4f8-47b1-86d6-c18d4365ae43",
   "metadata": {},
   "outputs": [
    {
     "data": {
      "text/plain": [
       "'lav'"
      ]
     },
     "execution_count": 12,
     "metadata": {},
     "output_type": "execute_result"
    }
   ],
   "source": [
    "resultat_tid"
   ]
  },
  {
   "cell_type": "code",
   "execution_count": null,
   "id": "99754e16-7730-429f-b845-ef37860ad540",
   "metadata": {},
   "outputs": [],
   "source": []
  }
 ],
 "metadata": {
  "kernelspec": {
   "display_name": "Python 3 (ipykernel)",
   "language": "python",
   "name": "python3"
  },
  "language_info": {
   "codemirror_mode": {
    "name": "ipython",
    "version": 3
   },
   "file_extension": ".py",
   "mimetype": "text/x-python",
   "name": "python",
   "nbconvert_exporter": "python",
   "pygments_lexer": "ipython3",
   "version": "3.10.0"
  }
 },
 "nbformat": 4,
 "nbformat_minor": 5
}
