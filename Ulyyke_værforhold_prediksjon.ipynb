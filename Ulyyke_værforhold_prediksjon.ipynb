{
 "cells": [
  {
   "cell_type": "code",
   "execution_count": 2,
   "id": "a11359a7-c613-4fb2-99ec-88e479448d7d",
   "metadata": {},
   "outputs": [
    {
     "data": {
      "text/plain": [
       "['modell_vaerforhold_pipeline.pkl']"
      ]
     },
     "execution_count": 2,
     "metadata": {},
     "output_type": "execute_result"
    }
   ],
   "source": [
    "# Modell 3: Tren på værtype fra CSV\n",
    "import pandas as pd\n",
    "from sklearn.model_selection import train_test_split\n",
    "from sklearn.pipeline import Pipeline\n",
    "from sklearn.compose import ColumnTransformer\n",
    "from sklearn.preprocessing import OneHotEncoder\n",
    "from sklearn.ensemble import RandomForestClassifier\n",
    "import joblib\n",
    "\n",
    "# Les og forbered data\n",
    "df = pd.read_csv(\"../data/processed/Ulykker_med_værforhold.csv\", encoding=\"ISO-8859-1\", sep=\";\")\n",
    "df.columns = df.columns.str.strip()\n",
    "df[\"Kommune\"] = df[\"Kommune\"].str.split(\" - \").str[-1].str.strip().str.lower()\n",
    "\n",
    "# Smelt værtyper til én kolonne\n",
    "melted = df.melt(\n",
    "    id_vars=[\"Kommune\", \"Måned\", \"År\"],\n",
    "    var_name=\"Værtype\",\n",
    "    value_name=\"AntallUlykker\"\n",
    ").dropna()\n",
    "\n",
    "melted[\"Værtype\"] = melted[\"Værtype\"].str.lower()\n",
    "\n",
    "# Lag risikonivå\n",
    "melted[\"Risiko\"] = pd.cut(melted[\"AntallUlykker\"],\n",
    "                          bins=[-1, 0, 2, float(\"inf\")],\n",
    "                          labels=[\"lav\", \"middels\", \"høy\"])\n",
    "\n",
    "# Modelltrening\n",
    "X = melted[[\"Kommune\", \"Måned\", \"År\", \"Værtype\"]]\n",
    "y = melted[\"Risiko\"]\n",
    "\n",
    "pipeline = Pipeline([\n",
    "    (\"prep\", ColumnTransformer([\n",
    "        (\"cat\", OneHotEncoder(handle_unknown=\"ignore\"), [\"Kommune\", \"Måned\", \"Værtype\"]),\n",
    "        (\"num\", \"passthrough\", [\"År\"])\n",
    "    ])),\n",
    "    (\"clf\", RandomForestClassifier(n_estimators=50, random_state=42))\n",
    "])\n",
    "\n",
    "X_train, X_test, y_train, y_test = train_test_split(X, y, test_size=0.2, random_state=42)\n",
    "pipeline.fit(X_train, y_train)\n",
    "\n",
    "# Lagre modellen\n",
    "joblib.dump(pipeline, \"modell_vaerforhold_pipeline.pkl\")\n"
   ]
  },
  {
   "cell_type": "code",
   "execution_count": 4,
   "id": "9af89942-729c-42f7-8494-97991fe011d2",
   "metadata": {},
   "outputs": [],
   "source": [
    "def kategoriser_vaer(mean_temp, sum_precip, mean_wind):\n",
    "    if sum_precip == 0 and mean_wind < 6:\n",
    "        return \"god sikt, opphold\"\n",
    "    elif 0 < sum_precip <= 5 and mean_wind < 6:\n",
    "        return \"god sikt, nedbør\"\n",
    "    elif sum_precip > 5:\n",
    "        return \"dårlig sikt, nedbør\"\n",
    "    elif sum_precip == 0 and mean_temp < 3 and mean_wind < 3:\n",
    "        return \"dårlig sikt, tåke eller dis\"\n",
    "    elif mean_wind >= 6:\n",
    "        return \"dårlig sikt, for øvrig\"\n",
    "    else:\n",
    "        return \"god sikt, opphold\"\n",
    "\n",
    "def prediker_fra_met(kommune, måned, år, mean_temp, sum_precip, mean_wind):\n",
    "    kommune_renset = kommune.strip().lower()\n",
    "    værtype = kategoriser_vaer(mean_temp, sum_precip, mean_wind)\n",
    "    \n",
    "    input_df = pd.DataFrame([[kommune_renset, måned, år, værtype]],\n",
    "                            columns=[\"Kommune\", \"Måned\", \"År\", \"Værtype\"])\n",
    "    return pipeline.predict(input_df)[0]"
   ]
  },
  {
   "cell_type": "code",
   "execution_count": 5,
   "id": "d848ac8d-70cc-4baf-b7ea-e41eb9a7703e",
   "metadata": {},
   "outputs": [
    {
     "name": "stdout",
     "output_type": "stream",
     "text": [
      "Predikert risikonivå: høy\n"
     ]
    }
   ],
   "source": [
    "risiko = prediker_fra_met(\n",
    "    kommune=\"Oslo\",\n",
    "    måned=\"Mars\",\n",
    "    år=2024,\n",
    "    mean_temp=2.1,\n",
    "    sum_precip=0.0,\n",
    "    mean_wind=1.5\n",
    ")\n",
    "\n",
    "print(\"Predikert risikonivå:\", risiko)"
   ]
  },
  {
   "cell_type": "code",
   "execution_count": null,
   "id": "ed1a9672-5706-4a2f-992e-3a40ea1eccb0",
   "metadata": {},
   "outputs": [],
   "source": []
  }
 ],
 "metadata": {
  "kernelspec": {
   "display_name": "Python 3 (ipykernel)",
   "language": "python",
   "name": "python3"
  },
  "language_info": {
   "codemirror_mode": {
    "name": "ipython",
    "version": 3
   },
   "file_extension": ".py",
   "mimetype": "text/x-python",
   "name": "python",
   "nbconvert_exporter": "python",
   "pygments_lexer": "ipython3",
   "version": "3.10.0"
  }
 },
 "nbformat": 4,
 "nbformat_minor": 5
}
