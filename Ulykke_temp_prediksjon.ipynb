{
 "cells": [
  {
   "cell_type": "code",
   "execution_count": 4,
   "id": "5d6a0614-2f14-4e8f-a45e-67d60d4897f4",
   "metadata": {},
   "outputs": [],
   "source": [
    "import pandas as pd\n",
    "import numpy as np\n",
    "from sklearn.model_selection import train_test_split\n",
    "from sklearn.preprocessing import OneHotEncoder\n",
    "from sklearn.compose import ColumnTransformer\n",
    "from sklearn.pipeline import Pipeline\n",
    "from sklearn.ensemble import RandomForestClassifier\n",
    "import joblib\n",
    "\n",
    "def kategoriser_tidspunkt(tid: str) -> str:\n",
    "    hour = int(tid.split(\":\")[0])\n",
    "    if 7 <= hour < 9:\n",
    "        return \"morgenrush 07:00-08:59\"\n",
    "    elif 9 <= hour < 15:\n",
    "        return \"formiddag 09:00-14:59\"\n",
    "    elif 15 <= hour < 18:\n",
    "        return \"ettermiddagrush 15:00-17:59\"\n",
    "    elif 18 <= hour < 24:\n",
    "        return \"kveld 18:00-23:59\"\n",
    "    else:\n",
    "        return \"natt 00:00-06:59\"\n",
    "\n",
    "def kategoriser_temperatur(temp: float) -> str:\n",
    "    if temp < -5:\n",
    "        return \"kaldere enn - 5 grader\"\n",
    "    elif -5 <= temp <= 5:\n",
    "        return \"-5 t.o.m. 5 grader\"\n",
    "    else:\n",
    "        return \"varmere enn 5 grader\"\n",
    "\n",
    "def rens_kommune(tekst: str) -> str:\n",
    "    # Fjerner kommune-ID og gjør til lowercase\n",
    "    return tekst.split(\" - \")[-1].strip().lower()\n",
    "\n",
    "\n",
    "df2 = pd.read_csv(\"../data/processed/Ulykker_med_temp.csv\", encoding=\"ISO-8859-1\", sep=\";\")\n",
    "df2.columns = df2.columns.str.strip()\n",
    "df2[\"Kommune\"] = df2[\"Kommune\"].apply(rens_kommune)\n",
    "\n",
    "melted2 = df2.melt(id_vars=[\"Kommune\", \"Måned\", \"År\"], var_name=\"Temperaturkategori\", value_name=\"Antall\")\n",
    "melted2 = melted2.dropna(subset=[\"Antall\", \"Kommune\", \"Måned\", \"År\", \"Temperaturkategori\"])\n",
    "melted2[\"Temperaturkategori\"] = melted2[\"Temperaturkategori\"].str.lower()\n",
    "\n",
    "melted2[\"Risiko\"] = pd.cut(melted2[\"Antall\"], bins=[-1, 0, 2, float(\"inf\")], labels=[\"lav\", \"middels\", \"høy\"])\n",
    "\n",
    "# Modell\n",
    "X2 = melted2[[\"Kommune\", \"Måned\", \"År\", \"Temperaturkategori\"]]\n",
    "y2 = melted2[\"Risiko\"]\n",
    "\n",
    "pipeline_temp = Pipeline([\n",
    "    (\"prep\", ColumnTransformer([\n",
    "        (\"cat\", OneHotEncoder(handle_unknown=\"ignore\"), [\"Kommune\", \"Måned\", \"Temperaturkategori\"]),\n",
    "        (\"num\", \"passthrough\", [\"År\"])\n",
    "    ])),\n",
    "    (\"clf\", RandomForestClassifier(n_estimators=30, random_state=42))\n",
    "])\n",
    "\n",
    "X2_train, X2_test, y2_train, y2_test = train_test_split(X2, y2, test_size=0.2, random_state=42)\n",
    "pipeline_temp.fit(X2_train, y2_train)\n",
    "joblib.dump(pipeline_temp, \"modell_temp_pipeline.pkl\")\n",
    "\n",
    "def prediker_temp(kommune, måned, år, temperatur_float):\n",
    "    kat_temp = kategoriser_temperatur(temperatur_float)\n",
    "    kommune_renset = rens_kommune(kommune)\n",
    "    input_df = pd.DataFrame([[kommune_renset, måned, år, kat_temp]],\n",
    "                            columns=[\"Kommune\", \"Måned\", \"År\", \"Temperaturkategori\"])\n",
    "    return pipeline_temp.predict(input_df)[0]\n",
    "\n"
   ]
  },
  {
   "cell_type": "code",
   "execution_count": 8,
   "id": "33e07b31-4c73-475c-ae07-8b28810df28b",
   "metadata": {},
   "outputs": [],
   "source": [
    "temperatur_kategori = kategoriser_temperatur(-3.2)\n",
    "resultat_temp = prediker_tempmodell(\"Oslo\", \"Januar\", 2023, temperatur_kategori)"
   ]
  },
  {
   "cell_type": "code",
   "execution_count": 9,
   "id": "cb44e543-6801-449a-9d34-ec38ff33d0c8",
   "metadata": {},
   "outputs": [
    {
     "data": {
      "text/plain": [
       "'lav'"
      ]
     },
     "execution_count": 9,
     "metadata": {},
     "output_type": "execute_result"
    }
   ],
   "source": [
    "resultat_temp"
   ]
  },
  {
   "cell_type": "code",
   "execution_count": null,
   "id": "1e6babf3-f207-480c-8662-cdbb2e10c121",
   "metadata": {},
   "outputs": [],
   "source": []
  }
 ],
 "metadata": {
  "kernelspec": {
   "display_name": "Python 3 (ipykernel)",
   "language": "python",
   "name": "python3"
  },
  "language_info": {
   "codemirror_mode": {
    "name": "ipython",
    "version": 3
   },
   "file_extension": ".py",
   "mimetype": "text/x-python",
   "name": "python",
   "nbconvert_exporter": "python",
   "pygments_lexer": "ipython3",
   "version": "3.10.0"
  }
 },
 "nbformat": 4,
 "nbformat_minor": 5
}
